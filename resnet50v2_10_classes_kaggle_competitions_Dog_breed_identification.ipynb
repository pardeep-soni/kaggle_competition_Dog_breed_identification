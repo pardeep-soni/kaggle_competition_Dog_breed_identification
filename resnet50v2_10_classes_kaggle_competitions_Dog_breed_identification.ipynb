{
 "cells": [
  {
   "cell_type": "markdown",
   "metadata": {
    "id": "bUm30n6tfpvQ"
   },
   "source": [
    "## @author - Pardeep"
   ]
  },
  {
   "cell_type": "markdown",
   "metadata": {
    "id": "UnRQdqEnfpvZ"
   },
   "source": [
    "## Using pretrained model (ResNet50) to classify a dog\n",
    "- Keras Applications provided deep learning models with pre-trained weights\n",
    "- Documentation: https://keras.io/applications/"
   ]
  },
  {
   "cell_type": "markdown",
   "metadata": {
    "id": "K5nU8YjIfpva"
   },
   "source": [
    "### # import necessary library"
   ]
  },
  {
   "cell_type": "code",
   "execution_count": 1,
   "metadata": {
    "id": "jdo0EPnB9k2V"
   },
   "outputs": [],
   "source": [
    "import numpy as np\n",
    "import pandas as pd\n",
    "import matplotlib.pyplot as plt\n",
    "import tensorflow as tf"
   ]
  },
  {
   "cell_type": "markdown",
   "metadata": {
    "id": "Ty4YC3ANfpvc"
   },
   "source": [
    "### importing Data"
   ]
  },
  {
   "cell_type": "code",
   "execution_count": 2,
   "metadata": {
    "colab": {
     "base_uri": "https://localhost:8080/",
     "height": 195
    },
    "id": "TzTm0_EHqRCh",
    "outputId": "a1d75b6f-a048-44fa-90c3-e65203120b2b"
   },
   "outputs": [
    {
     "data": {
      "text/html": [
       "<div>\n",
       "<style scoped>\n",
       "    .dataframe tbody tr th:only-of-type {\n",
       "        vertical-align: middle;\n",
       "    }\n",
       "\n",
       "    .dataframe tbody tr th {\n",
       "        vertical-align: top;\n",
       "    }\n",
       "\n",
       "    .dataframe thead th {\n",
       "        text-align: right;\n",
       "    }\n",
       "</style>\n",
       "<table border=\"1\" class=\"dataframe\">\n",
       "  <thead>\n",
       "    <tr style=\"text-align: right;\">\n",
       "      <th></th>\n",
       "      <th>id</th>\n",
       "      <th>breed</th>\n",
       "    </tr>\n",
       "  </thead>\n",
       "  <tbody>\n",
       "    <tr>\n",
       "      <th>0</th>\n",
       "      <td>000bec180eb18c7604dcecc8fe0dba07.jpg</td>\n",
       "      <td>boston_bull</td>\n",
       "    </tr>\n",
       "    <tr>\n",
       "      <th>1</th>\n",
       "      <td>001513dfcb2ffafc82cccf4d8bbaba97.jpg</td>\n",
       "      <td>dingo</td>\n",
       "    </tr>\n",
       "    <tr>\n",
       "      <th>2</th>\n",
       "      <td>001cdf01b096e06d78e9e5112d419397.jpg</td>\n",
       "      <td>pekinese</td>\n",
       "    </tr>\n",
       "    <tr>\n",
       "      <th>3</th>\n",
       "      <td>00214f311d5d2247d5dfe4fe24b2303d.jpg</td>\n",
       "      <td>bluetick</td>\n",
       "    </tr>\n",
       "    <tr>\n",
       "      <th>4</th>\n",
       "      <td>0021f9ceb3235effd7fcde7f7538ed62.jpg</td>\n",
       "      <td>golden_retriever</td>\n",
       "    </tr>\n",
       "  </tbody>\n",
       "</table>\n",
       "</div>"
      ],
      "text/plain": [
       "                                     id             breed\n",
       "0  000bec180eb18c7604dcecc8fe0dba07.jpg       boston_bull\n",
       "1  001513dfcb2ffafc82cccf4d8bbaba97.jpg             dingo\n",
       "2  001cdf01b096e06d78e9e5112d419397.jpg          pekinese\n",
       "3  00214f311d5d2247d5dfe4fe24b2303d.jpg          bluetick\n",
       "4  0021f9ceb3235effd7fcde7f7538ed62.jpg  golden_retriever"
      ]
     },
     "execution_count": 2,
     "metadata": {},
     "output_type": "execute_result"
    }
   ],
   "source": [
    "df_labels = pd.read_csv(r\"C:\\Users\\parde\\Downloads\\Assignment\\labels.csv\")\n",
    "df_labels['id'] = df_labels['id'] + '.jpg'\n",
    "df_labels.head()"
   ]
  },
  {
   "cell_type": "code",
   "execution_count": 4,
   "metadata": {
    "colab": {
     "base_uri": "https://localhost:8080/"
    },
    "id": "5bsetr9iqkpL",
    "outputId": "c8b1e738-66aa-455b-dc8c-1027383f8bc4"
   },
   "outputs": [
    {
     "data": {
      "text/plain": [
       "120"
      ]
     },
     "execution_count": 4,
     "metadata": {},
     "output_type": "execute_result"
    }
   ],
   "source": [
    "df_labels['breed'].unique().shape[0]"
   ]
  },
  {
   "cell_type": "code",
   "execution_count": 5,
   "metadata": {},
   "outputs": [],
   "source": [
    "df=df_labels.loc[df_labels.breed=='beagle']"
   ]
  },
  {
   "cell_type": "code",
   "execution_count": 6,
   "metadata": {},
   "outputs": [],
   "source": [
    "df=df.append(df_labels.loc[df_labels.breed=='chihuahua'])"
   ]
  },
  {
   "cell_type": "code",
   "execution_count": 7,
   "metadata": {},
   "outputs": [],
   "source": [
    "df=df.append(df_labels.loc[df_labels.breed=='doberman'])"
   ]
  },
  {
   "cell_type": "code",
   "execution_count": 8,
   "metadata": {},
   "outputs": [],
   "source": [
    "df=df.append(df_labels.loc[df_labels.breed=='french_bulldog'])"
   ]
  },
  {
   "cell_type": "code",
   "execution_count": 9,
   "metadata": {},
   "outputs": [],
   "source": [
    "df=df.append(df_labels.loc[df_labels.breed=='golden_retriever'])"
   ]
  },
  {
   "cell_type": "code",
   "execution_count": 10,
   "metadata": {},
   "outputs": [],
   "source": [
    "df=df.append(df_labels.loc[df_labels.breed=='malamute'])"
   ]
  },
  {
   "cell_type": "code",
   "execution_count": 11,
   "metadata": {},
   "outputs": [],
   "source": [
    "df=df.append(df_labels.loc[df_labels.breed=='pug'])"
   ]
  },
  {
   "cell_type": "code",
   "execution_count": 12,
   "metadata": {},
   "outputs": [],
   "source": [
    "df=df.append(df_labels.loc[df_labels.breed=='saint_bernard'])"
   ]
  },
  {
   "cell_type": "code",
   "execution_count": 13,
   "metadata": {},
   "outputs": [],
   "source": [
    "df=df.append(df_labels.loc[df_labels.breed=='scottish_deerhound'])"
   ]
  },
  {
   "cell_type": "code",
   "execution_count": 14,
   "metadata": {},
   "outputs": [],
   "source": [
    "df=df.append(df_labels.loc[df_labels.breed=='tibetan_mastiff'])"
   ]
  },
  {
   "cell_type": "code",
   "execution_count": 15,
   "metadata": {},
   "outputs": [
    {
     "data": {
      "text/plain": [
       "(841, 2)"
      ]
     },
     "execution_count": 15,
     "metadata": {},
     "output_type": "execute_result"
    }
   ],
   "source": [
    "df.shape"
   ]
  },
  {
   "cell_type": "markdown",
   "metadata": {
    "id": "sLkbDLTMfpve"
   },
   "source": [
    "# Data Preprocessing"
   ]
  },
  {
   "cell_type": "code",
   "execution_count": 16,
   "metadata": {
    "id": "jKv0o01SzAU7"
   },
   "outputs": [],
   "source": [
    "from sklearn.model_selection import train_test_split\n",
    "df_train, df_validation = train_test_split(df, test_size=0.2, shuffle=True)"
   ]
  },
  {
   "cell_type": "code",
   "execution_count": 17,
   "metadata": {
    "colab": {
     "base_uri": "https://localhost:8080/"
    },
    "id": "w_Ya3pmd0vL3",
    "outputId": "37950424-b247-4a1f-817b-a7611db1e5cb"
   },
   "outputs": [
    {
     "data": {
      "text/plain": [
       "((672, 2), (169, 2))"
      ]
     },
     "execution_count": 17,
     "metadata": {},
     "output_type": "execute_result"
    }
   ],
   "source": [
    "df_train.shape , df_validation.shape"
   ]
  },
  {
   "cell_type": "markdown",
   "metadata": {
    "id": "R6aGYEwtfpvf"
   },
   "source": [
    "### Preprocessing the Training set"
   ]
  },
  {
   "cell_type": "markdown",
   "metadata": {
    "id": "H_ItwXdAfpvf"
   },
   "source": [
    "## 1 Data Agumentation\n",
    "Apply Only On train Data Only"
   ]
  },
  {
   "cell_type": "code",
   "execution_count": 18,
   "metadata": {
    "colab": {
     "base_uri": "https://localhost:8080/"
    },
    "id": "NSj0BoZ1008W",
    "outputId": "1a7ba6cc-642f-445c-8d64-927a1bdfa127"
   },
   "outputs": [
    {
     "name": "stdout",
     "output_type": "stream",
     "text": [
      "Found 538 validated image filenames belonging to 10 classes.\n"
     ]
    }
   ],
   "source": [
    "from keras.preprocessing.image import ImageDataGenerator\n",
    "from keras.applications.resnet50 import preprocess_input\n",
    "\n",
    "train_datagen = ImageDataGenerator(preprocessing_function=preprocess_input,shear_range=0.2,zoom_range=0.2,horizontal_flip=True,validation_split=0.2)\n",
    "\n",
    "training_set = train_datagen.flow_from_dataframe(\n",
    "    dataframe=df_train,\n",
    "    directory='C:/Users/parde/Downloads/Assignment/train',\n",
    "    x_col=\"id\",\n",
    "    y_col=\"breed\",\n",
    "    target_size=(224, 224),\n",
    "    class_mode=\"categorical\",\n",
    "    subset=\"training\",\n",
    "    batch_size=32\n",
    ")\n"
   ]
  },
  {
   "cell_type": "markdown",
   "metadata": {
    "id": "1SuG2io6fpvg"
   },
   "source": [
    "### Preprocessing the val set"
   ]
  },
  {
   "cell_type": "code",
   "execution_count": 19,
   "metadata": {
    "colab": {
     "base_uri": "https://localhost:8080/"
    },
    "id": "8IPOjr9Yfpvg",
    "outputId": "06aa0865-3f86-4871-d42a-2e91ac8386d4"
   },
   "outputs": [
    {
     "name": "stdout",
     "output_type": "stream",
     "text": [
      "Found 134 validated image filenames belonging to 10 classes.\n"
     ]
    }
   ],
   "source": [
    "validation_set = train_datagen.flow_from_dataframe(\n",
    "    dataframe=df_train,\n",
    "    directory='C:/Users/parde/Downloads/Assignment/train',\n",
    "    x_col=\"id\",\n",
    "    y_col=\"breed\",\n",
    "    target_size=(224, 224),\n",
    "    class_mode=\"categorical\",\n",
    "    subset=\"validation\",\n",
    "    batch_size=32\n",
    ")"
   ]
  },
  {
   "cell_type": "markdown",
   "metadata": {
    "id": "oqBD7WwRfpvg"
   },
   "source": [
    "## ResNet50\n",
    "\n",
    "- ResNet-50 is a convolutional neural network that is trained on more than a million images from the ImageNet database. \n",
    "\n",
    "- The network is 50 layers deep and can classify images into 1000 object categories, such as keyboard, mouse, pencil, and many animals."
   ]
  },
  {
   "cell_type": "code",
   "execution_count": 20,
   "metadata": {
    "id": "sq99Nmkx2mR7"
   },
   "outputs": [],
   "source": [
    "# import necessary library\n",
    "from keras.models import Sequential\n",
    "from keras.layers import *"
   ]
  },
  {
   "cell_type": "markdown",
   "metadata": {
    "id": "iubSKYWZfpvh"
   },
   "source": [
    "# Importing transfer learning model"
   ]
  },
  {
   "cell_type": "markdown",
   "metadata": {
    "id": "V1qZZuowfpvi"
   },
   "source": [
    "### Load ResNet50 with imagenet weights\n",
    "### image size can be calibrated with target_size parameter\n",
    "### ResNet50 excepts the input with a size 224x224"
   ]
  },
  {
   "cell_type": "code",
   "execution_count": 21,
   "metadata": {
    "colab": {
     "base_uri": "https://localhost:8080/"
    },
    "id": "RSU67i_Z2OL1",
    "outputId": "b004dc90-1591-42ae-8564-57321f12caf3"
   },
   "outputs": [],
   "source": [
    "model = tf.keras.applications.ResNet50V2(input_shape=[224,224,3], weights='imagenet', include_top=False)"
   ]
  },
  {
   "cell_type": "markdown",
   "metadata": {
    "id": "6DIGf939fpvi"
   },
   "source": [
    "# preprocessing pre trained model"
   ]
  },
  {
   "cell_type": "code",
   "execution_count": 22,
   "metadata": {
    "id": "JQyGwSNR2OOW"
   },
   "outputs": [],
   "source": [
    "for layer in model.layers:\n",
    "    layer.trainable = False"
   ]
  },
  {
   "cell_type": "markdown",
   "metadata": {
    "id": "TTLGm5oPfpvi"
   },
   "source": [
    "## adding layer for flattening the outputs from previous layers"
   ]
  },
  {
   "cell_type": "code",
   "execution_count": 23,
   "metadata": {
    "id": "Kuc50Oca2OQ2"
   },
   "outputs": [],
   "source": [
    "x = Flatten()(model.output)"
   ]
  },
  {
   "cell_type": "markdown",
   "metadata": {
    "id": "UV2PYKqYfpvi"
   },
   "source": [
    "## adding layer for classification"
   ]
  },
  {
   "cell_type": "code",
   "execution_count": 24,
   "metadata": {
    "id": "jDzIFsgS2OTO"
   },
   "outputs": [],
   "source": [
    "prediction = Dense(10, activation='softmax')(x)"
   ]
  },
  {
   "cell_type": "code",
   "execution_count": 25,
   "metadata": {
    "id": "fOEP92FB2OVo"
   },
   "outputs": [],
   "source": [
    "from tensorflow.keras.models import Model"
   ]
  },
  {
   "cell_type": "code",
   "execution_count": 26,
   "metadata": {
    "id": "qGAyaK-U2OX3"
   },
   "outputs": [],
   "source": [
    "# create a model object\n",
    "model = Model(inputs=model.input, outputs=prediction)"
   ]
  },
  {
   "cell_type": "markdown",
   "metadata": {
    "id": "MN9BqTD5fpvj"
   },
   "source": [
    "# Training the transfer learning model"
   ]
  },
  {
   "cell_type": "markdown",
   "metadata": {
    "id": "NfCPsphifpvj"
   },
   "source": [
    "### Compiling the CNN"
   ]
  },
  {
   "cell_type": "code",
   "execution_count": 27,
   "metadata": {
    "id": "kgOhRQDe2OZa"
   },
   "outputs": [],
   "source": [
    "model.compile(optimizer = 'adam', loss = 'CategoricalCrossentropy', metrics = ['accuracy'])"
   ]
  },
  {
   "cell_type": "markdown",
   "metadata": {
    "id": "s2HlWoqrfpvk"
   },
   "source": [
    "### To avoid model to overfitting we have to stop the training at certain level, So we have to introduce early stoping which stops the training when change in desired value stop incearsing after specified epochs"
   ]
  },
  {
   "cell_type": "code",
   "execution_count": 28,
   "metadata": {
    "id": "zIQA5C4_1KQV"
   },
   "outputs": [],
   "source": [
    "from keras.callbacks import EarlyStopping"
   ]
  },
  {
   "cell_type": "code",
   "execution_count": 29,
   "metadata": {
    "id": "OIKhBIjY3I7J"
   },
   "outputs": [],
   "source": [
    "earlystop = EarlyStopping(monitor='accuracy', patience=3, verbose=2, restore_best_weights=True)"
   ]
  },
  {
   "cell_type": "markdown",
   "metadata": {
    "id": "GZCesWUCfpvk"
   },
   "source": [
    "### Training the CNN on the Training set and evaluating it on the Test set"
   ]
  },
  {
   "cell_type": "code",
   "execution_count": 30,
   "metadata": {},
   "outputs": [],
   "source": [
    "STEP_SIZE_TRAIN=training_set.n//training_set.batch_size\n",
    "STEP_SIZE_VALID=validation_set.n//validation_set.batch_size\n"
   ]
  },
  {
   "cell_type": "code",
   "execution_count": 31,
   "metadata": {
    "colab": {
     "base_uri": "https://localhost:8080/"
    },
    "id": "8qBM4o2U3I9c",
    "outputId": "4c91d20a-95d7-4f3e-a7ee-bdeb04b012f9"
   },
   "outputs": [
    {
     "name": "stdout",
     "output_type": "stream",
     "text": [
      "Epoch 1/30\n",
      "16/16 [==============================] - 29s 2s/step - loss: 4550.5812 - accuracy: 0.1150 - val_loss: 2908.1111 - val_accuracy: 0.1172\n",
      "Epoch 2/30\n",
      "16/16 [==============================] - 26s 2s/step - loss: 2661.5350 - accuracy: 0.1904 - val_loss: 2251.3823 - val_accuracy: 0.1094\n",
      "Epoch 3/30\n",
      "16/16 [==============================] - 26s 2s/step - loss: 1373.0498 - accuracy: 0.2892 - val_loss: 1989.8993 - val_accuracy: 0.1406\n",
      "Epoch 4/30\n",
      "16/16 [==============================] - 25s 2s/step - loss: 1333.3407 - accuracy: 0.2899 - val_loss: 1975.3174 - val_accuracy: 0.2031\n",
      "Epoch 5/30\n",
      "16/16 [==============================] - 26s 2s/step - loss: 1061.5681 - accuracy: 0.3360 - val_loss: 1618.1453 - val_accuracy: 0.2031\n",
      "Epoch 6/30\n",
      "16/16 [==============================] - 26s 2s/step - loss: 790.3903 - accuracy: 0.4742 - val_loss: 2271.6387 - val_accuracy: 0.1641\n",
      "Epoch 7/30\n",
      "16/16 [==============================] - 26s 2s/step - loss: 1054.8767 - accuracy: 0.4005 - val_loss: 1583.1990 - val_accuracy: 0.1328\n",
      "Epoch 8/30\n",
      "16/16 [==============================] - 26s 2s/step - loss: 686.5461 - accuracy: 0.4473 - val_loss: 1849.0408 - val_accuracy: 0.2109\n",
      "Epoch 9/30\n",
      "16/16 [==============================] - 25s 2s/step - loss: 805.7578 - accuracy: 0.4417 - val_loss: 1658.7352 - val_accuracy: 0.1172\n",
      "Restoring model weights from the end of the best epoch.\n",
      "Epoch 00009: early stopping\n"
     ]
    }
   ],
   "source": [
    "a= model.fit(training_set, steps_per_epoch=STEP_SIZE_TRAIN, validation_data = validation_set, validation_steps=STEP_SIZE_VALID, callbacks= earlystop,epochs = 30)"
   ]
  },
  {
   "cell_type": "markdown",
   "metadata": {
    "id": "sgE98pTT6ul4"
   },
   "source": [
    "# Evaluating model on valdidation data on different evaluation metrix"
   ]
  },
  {
   "cell_type": "code",
   "execution_count": 30,
   "metadata": {
    "colab": {
     "base_uri": "https://localhost:8080/"
    },
    "id": "Dm8b2Fn13I_3",
    "outputId": "21b3bb8f-167a-46a3-dd06-4ac1f446225a"
   },
   "outputs": [
    {
     "name": "stdout",
     "output_type": "stream",
     "text": [
      "6/6 - 7s - loss: 2309.2471 - accuracy: 0.2071\n",
      "Val accuracy:  20.710058510303497\n"
     ]
    }
   ],
   "source": [
    "val_loss, val_acc =model.evaluate(validation_set,validation_steps=STEP_SIZE_VALID)\n",
    "print(\"Val accuracy: \",val_acc*100)"
   ]
  },
  {
   "cell_type": "code",
   "execution_count": 31,
   "metadata": {
    "colab": {
     "base_uri": "https://localhost:8080/"
    },
    "id": "211R8YP-3bz2",
    "outputId": "1d79e761-c5bf-4c52-d8d4-7d18b33eca02"
   },
   "outputs": [
    {
     "name": "stdout",
     "output_type": "stream",
     "text": [
      "Val loss:  2309.2470703125\n"
     ]
    }
   ],
   "source": [
    "print(\"Val loss: \",val_loss)"
   ]
  },
  {
   "cell_type": "code",
   "execution_count": 32,
   "metadata": {
    "id": "P5QNgszr6myx"
   },
   "outputs": [],
   "source": [
    "from sklearn.metrics import f1_score, confusion_matrix, roc_auc_score\n",
    "import itertools"
   ]
  },
  {
   "cell_type": "code",
   "execution_count": 33,
   "metadata": {},
   "outputs": [],
   "source": [
    "Y_pred = model.predict(validation_set,steps=STEP_SIZE_TEST)\n",
    "y_pred = np.argmax(Y_pred, axis=1)"
   ]
  },
  {
   "cell_type": "code",
   "execution_count": 34,
   "metadata": {
    "id": "dhyjVyCE7VzJ"
   },
   "outputs": [
    {
     "name": "stdout",
     "output_type": "stream",
     "text": [
      "F1 score: 0.08221932119676481\n"
     ]
    }
   ],
   "source": [
    "f_score = f1_score(validation_set.classes,y_pred,average='macro')\n",
    "print('F1 score:',f_score)"
   ]
  },
  {
   "cell_type": "code",
   "execution_count": 35,
   "metadata": {
    "id": "RwLXD6FT6m1Q"
   },
   "outputs": [],
   "source": [
    "def plot_confusion_matrix(cm, classes, normalize=True, title='Confusion matrix', cmap=plt.cm.Blues):\n",
    "    \n",
    "    plt.figure(figsize=(25,25))\n",
    "    \n",
    "    plt.imshow(cm, interpolation='nearest', cmap=cmap)\n",
    "    plt.title(title)\n",
    "    plt.colorbar()\n",
    "    \n",
    "    tick_marks = np.arange(len(classes))\n",
    "    plt.xticks(tick_marks, classes, rotation=45)\n",
    "    plt.yticks(tick_marks, classes)\n",
    "\n",
    "    if normalize:\n",
    "        cm = cm.astype('float') / cm.sum(axis=1)[:, np.newaxis]\n",
    "        cm = np.around(cm, decimals=2)\n",
    "        cm[np.isnan(cm)] = 0.0\n",
    "        print(\"Normalized confusion matrix\")\n",
    "    else:\n",
    "        print('Confusion matrix, without normalization')\n",
    "    thresh = cm.max() / 2.\n",
    "    for i, j in itertools.product(range(cm.shape[0]), range(cm.shape[1])):\n",
    "        plt.text(j, i, cm[i, j],\n",
    "                 horizontalalignment=\"center\",\n",
    "                 color=\"white\" if cm[i, j] > thresh else \"black\")\n",
    "    plt.tight_layout()\n",
    "    plt.ylabel('True label')\n",
    "    plt.xlabel('Predicted label')"
   ]
  },
  {
   "cell_type": "code",
   "execution_count": 36,
   "metadata": {
    "id": "XGzMAsas6m36"
   },
   "outputs": [],
   "source": [
    "target_names = []\n",
    "for key in training_set.class_indices:\n",
    "    target_names.append(key)"
   ]
  },
  {
   "cell_type": "code",
   "execution_count": 37,
   "metadata": {
    "id": "NaHG0eOe6m9A"
   },
   "outputs": [],
   "source": [
    "Y_pred = model.predict(validation_set)\n",
    "y_pred = np.argmax(Y_pred, axis=1)"
   ]
  },
  {
   "cell_type": "code",
   "execution_count": 38,
   "metadata": {
    "id": "Z_30GuCz7KvA"
   },
   "outputs": [],
   "source": [
    "cm = confusion_matrix(validation_set.classes,y_pred)"
   ]
  },
  {
   "cell_type": "code",
   "execution_count": 39,
   "metadata": {
    "id": "gO-svehp7Kxe"
   },
   "outputs": [
    {
     "name": "stdout",
     "output_type": "stream",
     "text": [
      "Normalized confusion matrix\n"
     ]
    },
    {
     "data": {
      "image/png": "[encoded data removed]",
      "text/plain": [
       "<Figure size 1800x1800 with 2 Axes>"
      ]
     },
     "metadata": {
      "needs_background": "light"
     },
     "output_type": "display_data"
    }
   ],
   "source": [
    "plot_confusion_matrix(cm, target_names, title='Confusion Matrix')"
   ]
  },
  {
   "cell_type": "markdown",
   "metadata": {
    "id": "xyEVOyCrfpvm"
   },
   "source": [
    "# Visualizing The History Of training"
   ]
  },
  {
   "cell_type": "code",
   "execution_count": 40,
   "metadata": {
    "id": "G1wV3CMJ3b2c"
   },
   "outputs": [],
   "source": [
    "import matplotlib.pyplot as plt"
   ]
  },
  {
   "cell_type": "code",
   "execution_count": 41,
   "metadata": {
    "colab": {
     "base_uri": "https://localhost:8080/",
     "height": 545
    },
    "id": "XIh5obOq3b46",
    "outputId": "9fd59262-c765-4c26-ed20-81bf61f1a403"
   },
   "outputs": [
    {
     "data": {
      "image/png": "[encoded data removed]",
      "text/plain": [
       "<Figure size 432x288 with 1 Axes>"
      ]
     },
     "metadata": {
      "needs_background": "light"
     },
     "output_type": "display_data"
    },
    {
     "data": {
      "image/png": "[encoded data removed]",
      "text/plain": [
       "<Figure size 432x288 with 1 Axes>"
      ]
     },
     "metadata": {
      "needs_background": "light"
     },
     "output_type": "display_data"
    }
   ],
   "source": [
    "\n",
    "# plot the loss\n",
    "plt.plot(a.history['loss'], label='train loss')\n",
    "plt.plot(a.history['val_loss'], label='val loss')\n",
    "plt.title('val_loss') \n",
    "plt.legend()\n",
    "plt.show()\n",
    "#plt.savefig('LossVal_loss')\n",
    "\n",
    "# plot the accuracy\n",
    "plt.plot(a.history['accuracy'], label='train acc')\n",
    "plt.plot(a.history['val_accuracy'], label='val acc')\n",
    "plt.title('val_accuracy') \n",
    "plt.legend()\n",
    "plt.show()\n",
    "#plt.savefig('AccVal_acc')"
   ]
  },
  {
   "cell_type": "markdown",
   "metadata": {
    "id": "Vcc6LfveyRDR"
   },
   "source": [
    "### saving the tarined model"
   ]
  },
  {
   "cell_type": "code",
   "execution_count": 42,
   "metadata": {
    "id": "zNKC-mTA3b7U"
   },
   "outputs": [],
   "source": [
    "import tensorflow as tf\n",
    "\n",
    "from keras.models import load_model\n",
    "\n",
    "model.save('C:/Users/parde/Downloads/Assignment/resnet50v2/10classresnet50v2.h5')"
   ]
  },
  {
   "cell_type": "markdown",
   "metadata": {
    "id": "q6eB0K10y3ud"
   },
   "source": [
    "### Preprocessing the test set"
   ]
  },
  {
   "cell_type": "code",
   "execution_count": 46,
   "metadata": {},
   "outputs": [
    {
     "name": "stdout",
     "output_type": "stream",
     "text": [
      "Found 10357 validated image filenames.\n"
     ]
    }
   ],
   "source": [
    "test_gen = ImageDataGenerator(preprocessing_function=preprocess_input)\n",
    "\n",
    "test_data = test_gen.flow_from_dataframe(\n",
    "    dataframe=df_validation,\n",
    "    directory='C:/Users/parde/Downloads/Assignment/train',\n",
    "    x_col=\"id\",\n",
    "    y_col=\"breed\",\n",
    "    target_size=(224, 224),\n",
    "    class_mode=None,\n",
    "    batch_size=32\n",
    ")"
   ]
  },
  {
   "cell_type": "code",
   "execution_count": null,
   "metadata": {},
   "outputs": [],
   "source": [
    "STEP_SIZE_TEST=test_generator.n//test_generator.batch_size"
   ]
  },
  {
   "cell_type": "markdown",
   "metadata": {
    "id": "qNaxTiIC4KHW"
   },
   "source": [
    "### Making Predictions on Test set"
   ]
  },
  {
   "cell_type": "code",
   "execution_count": 47,
   "metadata": {
    "colab": {
     "base_uri": "https://localhost:8080/"
    },
    "id": "A2T5xnO92CMe",
    "outputId": "ee24e014-bc03-4603-d6a1-84694f4aa45e"
   },
   "outputs": [
    {
     "name": "stdout",
     "output_type": "stream",
     "text": [
      "324/324 [==============================] - 423s 1s/step\n"
     ]
    }
   ],
   "source": [
    "preds = model.predict(test_data, steps=STEP_SIZE_TEST, verbose = 1)"
   ]
  },
  {
   "cell_type": "code",
   "execution_count": 53,
   "metadata": {},
   "outputs": [],
   "source": [
    "predicted_class_indices=np.argmax(preds,axis=1)"
   ]
  },
  {
   "cell_type": "code",
   "execution_count": 54,
   "metadata": {},
   "outputs": [],
   "source": [
    "labels = (training_set.class_indices)\n",
    "labels = dict((v,k) for k,v in labels.items())\n",
    "predictions = [labels[k] for k in predicted_class_indices]"
   ]
  },
  {
   "cell_type": "code",
   "execution_count": 55,
   "metadata": {},
   "outputs": [],
   "source": [
    "filenames=test_data.filenames\n",
    "results=pd.DataFrame({\"Filename\":filenames,\n",
    "                      \"Predictions\":predictions})\n",
    "results.to_csv(\"results.csv\",index=False)"
   ]
  },
  {
   "cell_type": "code",
   "execution_count": 57,
   "metadata": {},
   "outputs": [
    {
     "data": {
      "text/html": [
       "<div>\n",
       "<style scoped>\n",
       "    .dataframe tbody tr th:only-of-type {\n",
       "        vertical-align: middle;\n",
       "    }\n",
       "\n",
       "    .dataframe tbody tr th {\n",
       "        vertical-align: top;\n",
       "    }\n",
       "\n",
       "    .dataframe thead th {\n",
       "        text-align: right;\n",
       "    }\n",
       "</style>\n",
       "<table border=\"1\" class=\"dataframe\">\n",
       "  <thead>\n",
       "    <tr style=\"text-align: right;\">\n",
       "      <th></th>\n",
       "      <th>Filename</th>\n",
       "      <th>Predictions</th>\n",
       "    </tr>\n",
       "  </thead>\n",
       "  <tbody>\n",
       "    <tr>\n",
       "      <th>0</th>\n",
       "      <td>000621fb3cbb32d8935728e48679680e.jpg</td>\n",
       "      <td>pug</td>\n",
       "    </tr>\n",
       "    <tr>\n",
       "      <th>1</th>\n",
       "      <td>00102ee9d8eb90812350685311fe5890.jpg</td>\n",
       "      <td>doberman</td>\n",
       "    </tr>\n",
       "    <tr>\n",
       "      <th>2</th>\n",
       "      <td>0012a730dfa437f5f3613fb75efcd4ce.jpg</td>\n",
       "      <td>doberman</td>\n",
       "    </tr>\n",
       "    <tr>\n",
       "      <th>3</th>\n",
       "      <td>001510bc8570bbeee98c8d80c8a95ec1.jpg</td>\n",
       "      <td>doberman</td>\n",
       "    </tr>\n",
       "    <tr>\n",
       "      <th>4</th>\n",
       "      <td>001a5f3114548acdefa3d4da05474c2e.jpg</td>\n",
       "      <td>scottish_deerhound</td>\n",
       "    </tr>\n",
       "  </tbody>\n",
       "</table>\n",
       "</div>"
      ],
      "text/plain": [
       "                               Filename         Predictions\n",
       "0  000621fb3cbb32d8935728e48679680e.jpg                 pug\n",
       "1  00102ee9d8eb90812350685311fe5890.jpg            doberman\n",
       "2  0012a730dfa437f5f3613fb75efcd4ce.jpg            doberman\n",
       "3  001510bc8570bbeee98c8d80c8a95ec1.jpg            doberman\n",
       "4  001a5f3114548acdefa3d4da05474c2e.jpg  scottish_deerhound"
      ]
     },
     "execution_count": 57,
     "metadata": {},
     "output_type": "execute_result"
    }
   ],
   "source": [
    "fav_dogs = pd.read_csv(\"results.csv\")\n",
    "fav_dogs.head()"
   ]
  }
 ],
 "metadata": {
  "accelerator": "GPU",
  "colab": {
   "collapsed_sections": [],
   "machine_shape": "hm",
   "name": "resnet50v2_preprocess_methods.ipynb",
   "provenance": []
  },
  "kernelspec": {
   "display_name": "Python 3",
   "language": "python",
   "name": "python3"
  },
  "language_info": {
   "codemirror_mode": {
    "name": "ipython",
    "version": 3
   },
   "file_extension": ".py",
   "mimetype": "text/x-python",
   "name": "python",
   "nbconvert_exporter": "python",
   "pygments_lexer": "ipython3",
   "version": "3.8.5"
  }
 },
 "nbformat": 4,
 "nbformat_minor": 1
}
